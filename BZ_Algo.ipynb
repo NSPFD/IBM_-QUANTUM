{
  "cells": [
    {
      "cell_type": "markdown",
      "metadata": {
        "id": "view-in-github",
        "colab_type": "text"
      },
      "source": [
        "<a href=\"https://colab.research.google.com/github/NSPFD/IBM_-QUANTUM/blob/main/BZ_Algo.ipynb\" target=\"_parent\"><img src=\"https://colab.research.google.com/assets/colab-badge.svg\" alt=\"Open In Colab\"/></a>"
      ]
    },
    {
      "cell_type": "markdown",
      "id": "8a533677",
      "metadata": {
        "tags": [],
        "id": "8a533677"
      },
      "source": [
        "# Bernstein-Vazirani"
      ]
    },
    {
      "cell_type": "code",
      "execution_count": null,
      "id": "bb529d8f",
      "metadata": {
        "colab": {
          "base_uri": "https://localhost:8080/"
        },
        "id": "bb529d8f",
        "outputId": "ca606fe3-e315-44fe-c60a-cb6cc9c54f9c"
      },
      "outputs": [
        {
          "output_type": "stream",
          "name": "stdout",
          "text": [
            "Collecting qiskit\n",
            "  Downloading qiskit-1.1.1-cp38-abi3-manylinux_2_17_x86_64.manylinux2014_x86_64.whl.metadata (12 kB)\n",
            "Collecting rustworkx>=0.14.0 (from qiskit)\n",
            "  Downloading rustworkx-0.15.1-cp38-abi3-manylinux_2_17_x86_64.manylinux2014_x86_64.whl.metadata (9.9 kB)\n",
            "Requirement already satisfied: numpy<3,>=1.17 in /usr/local/lib/python3.10/dist-packages (from qiskit) (1.26.4)\n",
            "Requirement already satisfied: scipy>=1.5 in /usr/local/lib/python3.10/dist-packages (from qiskit) (1.13.1)\n",
            "Requirement already satisfied: sympy>=1.3 in /usr/local/lib/python3.10/dist-packages (from qiskit) (1.13.1)\n",
            "Collecting dill>=0.3 (from qiskit)\n",
            "  Downloading dill-0.3.8-py3-none-any.whl.metadata (10 kB)\n",
            "Requirement already satisfied: python-dateutil>=2.8.0 in /usr/local/lib/python3.10/dist-packages (from qiskit) (2.8.2)\n",
            "Collecting stevedore>=3.0.0 (from qiskit)\n",
            "  Downloading stevedore-5.2.0-py3-none-any.whl.metadata (2.3 kB)\n",
            "Requirement already satisfied: typing-extensions in /usr/local/lib/python3.10/dist-packages (from qiskit) (4.12.2)\n",
            "Collecting symengine>=0.11 (from qiskit)\n",
            "  Downloading symengine-0.11.0-cp310-cp310-manylinux_2_12_x86_64.manylinux2010_x86_64.whl.metadata (1.2 kB)\n",
            "Requirement already satisfied: six>=1.5 in /usr/local/lib/python3.10/dist-packages (from python-dateutil>=2.8.0->qiskit) (1.16.0)\n",
            "Collecting pbr!=2.1.0,>=2.0.0 (from stevedore>=3.0.0->qiskit)\n",
            "  Downloading pbr-6.0.0-py2.py3-none-any.whl.metadata (1.3 kB)\n",
            "Requirement already satisfied: mpmath<1.4,>=1.1.0 in /usr/local/lib/python3.10/dist-packages (from sympy>=1.3->qiskit) (1.3.0)\n",
            "Downloading qiskit-1.1.1-cp38-abi3-manylinux_2_17_x86_64.manylinux2014_x86_64.whl (4.3 MB)\n",
            "\u001b[2K   \u001b[90m━━━━━━━━━━━━━━━━━━━━━━━━━━━━━━━━━━━━━━━━\u001b[0m \u001b[32m4.3/4.3 MB\u001b[0m \u001b[31m22.8 MB/s\u001b[0m eta \u001b[36m0:00:00\u001b[0m\n",
            "\u001b[?25hDownloading dill-0.3.8-py3-none-any.whl (116 kB)\n",
            "\u001b[2K   \u001b[90m━━━━━━━━━━━━━━━━━━━━━━━━━━━━━━━━━━━━━━━━\u001b[0m \u001b[32m116.3/116.3 kB\u001b[0m \u001b[31m6.1 MB/s\u001b[0m eta \u001b[36m0:00:00\u001b[0m\n",
            "\u001b[?25hDownloading rustworkx-0.15.1-cp38-abi3-manylinux_2_17_x86_64.manylinux2014_x86_64.whl (2.0 MB)\n",
            "\u001b[2K   \u001b[90m━━━━━━━━━━━━━━━━━━━━━━━━━━━━━━━━━━━━━━━━\u001b[0m \u001b[32m2.0/2.0 MB\u001b[0m \u001b[31m15.7 MB/s\u001b[0m eta \u001b[36m0:00:00\u001b[0m\n",
            "\u001b[?25hDownloading stevedore-5.2.0-py3-none-any.whl (49 kB)\n",
            "\u001b[2K   \u001b[90m━━━━━━━━━━━━━━━━━━━━━━━━━━━━━━━━━━━━━━━━\u001b[0m \u001b[32m49.7/49.7 kB\u001b[0m \u001b[31m1.5 MB/s\u001b[0m eta \u001b[36m0:00:00\u001b[0m\n",
            "\u001b[?25hDownloading symengine-0.11.0-cp310-cp310-manylinux_2_12_x86_64.manylinux2010_x86_64.whl (39.4 MB)\n",
            "\u001b[2K   \u001b[90m━━━━━━━━━━━━━━━━━━━━━━━━━━━━━━━━━━━━━━━━\u001b[0m \u001b[32m39.4/39.4 MB\u001b[0m \u001b[31m11.1 MB/s\u001b[0m eta \u001b[36m0:00:00\u001b[0m\n",
            "\u001b[?25hDownloading pbr-6.0.0-py2.py3-none-any.whl (107 kB)\n",
            "\u001b[2K   \u001b[90m━━━━━━━━━━━━━━━━━━━━━━━━━━━━━━━━━━━━━━━━\u001b[0m \u001b[32m107.5/107.5 kB\u001b[0m \u001b[31m4.3 MB/s\u001b[0m eta \u001b[36m0:00:00\u001b[0m\n",
            "\u001b[?25hInstalling collected packages: symengine, rustworkx, pbr, dill, stevedore, qiskit\n",
            "Successfully installed dill-0.3.8 pbr-6.0.0 qiskit-1.1.1 rustworkx-0.15.1 stevedore-5.2.0 symengine-0.11.0\n",
            "Collecting qiskit_aer\n",
            "  Downloading qiskit_aer-0.14.2-cp310-cp310-manylinux_2_17_x86_64.manylinux2014_x86_64.whl.metadata (8.1 kB)\n",
            "Requirement already satisfied: qiskit>=0.45.2 in /usr/local/lib/python3.10/dist-packages (from qiskit_aer) (1.1.1)\n",
            "Requirement already satisfied: numpy>=1.16.3 in /usr/local/lib/python3.10/dist-packages (from qiskit_aer) (1.26.4)\n",
            "Requirement already satisfied: scipy>=1.0 in /usr/local/lib/python3.10/dist-packages (from qiskit_aer) (1.13.1)\n",
            "Requirement already satisfied: psutil>=5 in /usr/local/lib/python3.10/dist-packages (from qiskit_aer) (5.9.5)\n",
            "Requirement already satisfied: rustworkx>=0.14.0 in /usr/local/lib/python3.10/dist-packages (from qiskit>=0.45.2->qiskit_aer) (0.15.1)\n",
            "Requirement already satisfied: sympy>=1.3 in /usr/local/lib/python3.10/dist-packages (from qiskit>=0.45.2->qiskit_aer) (1.13.1)\n",
            "Requirement already satisfied: dill>=0.3 in /usr/local/lib/python3.10/dist-packages (from qiskit>=0.45.2->qiskit_aer) (0.3.8)\n",
            "Requirement already satisfied: python-dateutil>=2.8.0 in /usr/local/lib/python3.10/dist-packages (from qiskit>=0.45.2->qiskit_aer) (2.8.2)\n",
            "Requirement already satisfied: stevedore>=3.0.0 in /usr/local/lib/python3.10/dist-packages (from qiskit>=0.45.2->qiskit_aer) (5.2.0)\n",
            "Requirement already satisfied: typing-extensions in /usr/local/lib/python3.10/dist-packages (from qiskit>=0.45.2->qiskit_aer) (4.12.2)\n",
            "Requirement already satisfied: symengine>=0.11 in /usr/local/lib/python3.10/dist-packages (from qiskit>=0.45.2->qiskit_aer) (0.11.0)\n",
            "Requirement already satisfied: six>=1.5 in /usr/local/lib/python3.10/dist-packages (from python-dateutil>=2.8.0->qiskit>=0.45.2->qiskit_aer) (1.16.0)\n",
            "Requirement already satisfied: pbr!=2.1.0,>=2.0.0 in /usr/local/lib/python3.10/dist-packages (from stevedore>=3.0.0->qiskit>=0.45.2->qiskit_aer) (6.0.0)\n",
            "Requirement already satisfied: mpmath<1.4,>=1.1.0 in /usr/local/lib/python3.10/dist-packages (from sympy>=1.3->qiskit>=0.45.2->qiskit_aer) (1.3.0)\n",
            "Downloading qiskit_aer-0.14.2-cp310-cp310-manylinux_2_17_x86_64.manylinux2014_x86_64.whl (12.4 MB)\n",
            "\u001b[2K   \u001b[90m━━━━━━━━━━━━━━━━━━━━━━━━━━━━━━━━━━━━━━━━\u001b[0m \u001b[32m12.4/12.4 MB\u001b[0m \u001b[31m77.2 MB/s\u001b[0m eta \u001b[36m0:00:00\u001b[0m\n",
            "\u001b[?25hInstalling collected packages: qiskit_aer\n",
            "Successfully installed qiskit_aer-0.14.2\n",
            "Requirement already satisfied: qiskit[visualization] in /usr/local/lib/python3.10/dist-packages (1.1.1)\n",
            "Requirement already satisfied: rustworkx>=0.14.0 in /usr/local/lib/python3.10/dist-packages (from qiskit[visualization]) (0.15.1)\n",
            "Requirement already satisfied: numpy<3,>=1.17 in /usr/local/lib/python3.10/dist-packages (from qiskit[visualization]) (1.26.4)\n",
            "Requirement already satisfied: scipy>=1.5 in /usr/local/lib/python3.10/dist-packages (from qiskit[visualization]) (1.13.1)\n",
            "Requirement already satisfied: sympy>=1.3 in /usr/local/lib/python3.10/dist-packages (from qiskit[visualization]) (1.13.1)\n",
            "Requirement already satisfied: dill>=0.3 in /usr/local/lib/python3.10/dist-packages (from qiskit[visualization]) (0.3.8)\n",
            "Requirement already satisfied: python-dateutil>=2.8.0 in /usr/local/lib/python3.10/dist-packages (from qiskit[visualization]) (2.8.2)\n",
            "Requirement already satisfied: stevedore>=3.0.0 in /usr/local/lib/python3.10/dist-packages (from qiskit[visualization]) (5.2.0)\n",
            "Requirement already satisfied: typing-extensions in /usr/local/lib/python3.10/dist-packages (from qiskit[visualization]) (4.12.2)\n",
            "Requirement already satisfied: symengine>=0.11 in /usr/local/lib/python3.10/dist-packages (from qiskit[visualization]) (0.11.0)\n",
            "Requirement already satisfied: matplotlib>=3.3 in /usr/local/lib/python3.10/dist-packages (from qiskit[visualization]) (3.7.1)\n",
            "Requirement already satisfied: pydot in /usr/local/lib/python3.10/dist-packages (from qiskit[visualization]) (1.4.2)\n",
            "Requirement already satisfied: Pillow>=4.2.1 in /usr/local/lib/python3.10/dist-packages (from qiskit[visualization]) (9.4.0)\n",
            "Collecting pylatexenc>=1.4 (from qiskit[visualization])\n",
            "  Downloading pylatexenc-2.10.tar.gz (162 kB)\n",
            "\u001b[2K     \u001b[90m━━━━━━━━━━━━━━━━━━━━━━━━━━━━━━━━━━━━━━━━\u001b[0m \u001b[32m162.6/162.6 kB\u001b[0m \u001b[31m4.7 MB/s\u001b[0m eta \u001b[36m0:00:00\u001b[0m\n",
            "\u001b[?25h  Preparing metadata (setup.py) ... \u001b[?25l\u001b[?25hdone\n",
            "Requirement already satisfied: seaborn>=0.9.0 in /usr/local/lib/python3.10/dist-packages (from qiskit[visualization]) (0.13.1)\n",
            "Requirement already satisfied: contourpy>=1.0.1 in /usr/local/lib/python3.10/dist-packages (from matplotlib>=3.3->qiskit[visualization]) (1.2.1)\n",
            "Requirement already satisfied: cycler>=0.10 in /usr/local/lib/python3.10/dist-packages (from matplotlib>=3.3->qiskit[visualization]) (0.12.1)\n",
            "Requirement already satisfied: fonttools>=4.22.0 in /usr/local/lib/python3.10/dist-packages (from matplotlib>=3.3->qiskit[visualization]) (4.53.1)\n",
            "Requirement already satisfied: kiwisolver>=1.0.1 in /usr/local/lib/python3.10/dist-packages (from matplotlib>=3.3->qiskit[visualization]) (1.4.5)\n",
            "Requirement already satisfied: packaging>=20.0 in /usr/local/lib/python3.10/dist-packages (from matplotlib>=3.3->qiskit[visualization]) (24.1)\n",
            "Requirement already satisfied: pyparsing>=2.3.1 in /usr/local/lib/python3.10/dist-packages (from matplotlib>=3.3->qiskit[visualization]) (3.1.2)\n",
            "Requirement already satisfied: six>=1.5 in /usr/local/lib/python3.10/dist-packages (from python-dateutil>=2.8.0->qiskit[visualization]) (1.16.0)\n",
            "Requirement already satisfied: pandas>=1.2 in /usr/local/lib/python3.10/dist-packages (from seaborn>=0.9.0->qiskit[visualization]) (2.1.4)\n",
            "Requirement already satisfied: pbr!=2.1.0,>=2.0.0 in /usr/local/lib/python3.10/dist-packages (from stevedore>=3.0.0->qiskit[visualization]) (6.0.0)\n",
            "Requirement already satisfied: mpmath<1.4,>=1.1.0 in /usr/local/lib/python3.10/dist-packages (from sympy>=1.3->qiskit[visualization]) (1.3.0)\n",
            "Requirement already satisfied: pytz>=2020.1 in /usr/local/lib/python3.10/dist-packages (from pandas>=1.2->seaborn>=0.9.0->qiskit[visualization]) (2024.1)\n",
            "Requirement already satisfied: tzdata>=2022.1 in /usr/local/lib/python3.10/dist-packages (from pandas>=1.2->seaborn>=0.9.0->qiskit[visualization]) (2024.1)\n",
            "Building wheels for collected packages: pylatexenc\n",
            "  Building wheel for pylatexenc (setup.py) ... \u001b[?25l\u001b[?25hdone\n",
            "  Created wheel for pylatexenc: filename=pylatexenc-2.10-py3-none-any.whl size=136817 sha256=086a8fa2656e8be41d3afc1739d0e21c9c8e9eb44fadc07107d7204595ebe9e6\n",
            "  Stored in directory: /root/.cache/pip/wheels/d3/31/8b/e09b0386afd80cfc556c00408c9aeea5c35c4d484a9c762fd5\n",
            "Successfully built pylatexenc\n",
            "Installing collected packages: pylatexenc\n",
            "Successfully installed pylatexenc-2.10\n",
            "Collecting qiskit-ibm-runtime\n",
            "  Downloading qiskit_ibm_runtime-0.26.0-py3-none-any.whl.metadata (19 kB)\n",
            "Requirement already satisfied: requests>=2.19 in /usr/local/lib/python3.10/dist-packages (from qiskit-ibm-runtime) (2.32.3)\n",
            "Collecting requests-ntlm>=1.1.0 (from qiskit-ibm-runtime)\n",
            "  Downloading requests_ntlm-1.3.0-py3-none-any.whl.metadata (2.4 kB)\n",
            "Requirement already satisfied: numpy>=1.13 in /usr/local/lib/python3.10/dist-packages (from qiskit-ibm-runtime) (1.26.4)\n",
            "Requirement already satisfied: urllib3>=1.21.1 in /usr/local/lib/python3.10/dist-packages (from qiskit-ibm-runtime) (2.0.7)\n",
            "Requirement already satisfied: python-dateutil>=2.8.0 in /usr/local/lib/python3.10/dist-packages (from qiskit-ibm-runtime) (2.8.2)\n",
            "Requirement already satisfied: websocket-client>=1.5.1 in /usr/local/lib/python3.10/dist-packages (from qiskit-ibm-runtime) (1.8.0)\n",
            "Collecting ibm-platform-services>=0.22.6 (from qiskit-ibm-runtime)\n",
            "  Downloading ibm-platform-services-0.55.2.tar.gz (323 kB)\n",
            "\u001b[2K     \u001b[90m━━━━━━━━━━━━━━━━━━━━━━━━━━━━━━━━━━━━━━━━\u001b[0m \u001b[32m323.1/323.1 kB\u001b[0m \u001b[31m11.5 MB/s\u001b[0m eta \u001b[36m0:00:00\u001b[0m\n",
            "\u001b[?25h  Installing build dependencies ... \u001b[?25l\u001b[?25hdone\n",
            "  Getting requirements to build wheel ... \u001b[?25l\u001b[?25hdone\n",
            "  Preparing metadata (pyproject.toml) ... \u001b[?25l\u001b[?25hdone\n",
            "Requirement already satisfied: pydantic>=2.5.0 in /usr/local/lib/python3.10/dist-packages (from qiskit-ibm-runtime) (2.8.2)\n",
            "Requirement already satisfied: qiskit>=1.1.0 in /usr/local/lib/python3.10/dist-packages (from qiskit-ibm-runtime) (1.1.1)\n",
            "Collecting ibm-cloud-sdk-core<4.0.0,>=3.20.4 (from ibm-platform-services>=0.22.6->qiskit-ibm-runtime)\n",
            "  Downloading ibm-cloud-sdk-core-3.20.4.tar.gz (62 kB)\n",
            "\u001b[2K     \u001b[90m━━━━━━━━━━━━━━━━━━━━━━━━━━━━━━━━━━━━━━━━\u001b[0m \u001b[32m62.5/62.5 kB\u001b[0m \u001b[31m4.4 MB/s\u001b[0m eta \u001b[36m0:00:00\u001b[0m\n",
            "\u001b[?25h  Installing build dependencies ... \u001b[?25l\u001b[?25hdone\n",
            "  Getting requirements to build wheel ... \u001b[?25l\u001b[?25hdone\n",
            "  Preparing metadata (pyproject.toml) ... \u001b[?25l\u001b[?25hdone\n",
            "Requirement already satisfied: annotated-types>=0.4.0 in /usr/local/lib/python3.10/dist-packages (from pydantic>=2.5.0->qiskit-ibm-runtime) (0.7.0)\n",
            "Requirement already satisfied: pydantic-core==2.20.1 in /usr/local/lib/python3.10/dist-packages (from pydantic>=2.5.0->qiskit-ibm-runtime) (2.20.1)\n",
            "Requirement already satisfied: typing-extensions>=4.6.1 in /usr/local/lib/python3.10/dist-packages (from pydantic>=2.5.0->qiskit-ibm-runtime) (4.12.2)\n",
            "Requirement already satisfied: six>=1.5 in /usr/local/lib/python3.10/dist-packages (from python-dateutil>=2.8.0->qiskit-ibm-runtime) (1.16.0)\n",
            "Requirement already satisfied: rustworkx>=0.14.0 in /usr/local/lib/python3.10/dist-packages (from qiskit>=1.1.0->qiskit-ibm-runtime) (0.15.1)\n",
            "Requirement already satisfied: scipy>=1.5 in /usr/local/lib/python3.10/dist-packages (from qiskit>=1.1.0->qiskit-ibm-runtime) (1.13.1)\n",
            "Requirement already satisfied: sympy>=1.3 in /usr/local/lib/python3.10/dist-packages (from qiskit>=1.1.0->qiskit-ibm-runtime) (1.13.1)\n",
            "Requirement already satisfied: dill>=0.3 in /usr/local/lib/python3.10/dist-packages (from qiskit>=1.1.0->qiskit-ibm-runtime) (0.3.8)\n",
            "Requirement already satisfied: stevedore>=3.0.0 in /usr/local/lib/python3.10/dist-packages (from qiskit>=1.1.0->qiskit-ibm-runtime) (5.2.0)\n",
            "Requirement already satisfied: symengine>=0.11 in /usr/local/lib/python3.10/dist-packages (from qiskit>=1.1.0->qiskit-ibm-runtime) (0.11.0)\n",
            "Requirement already satisfied: charset-normalizer<4,>=2 in /usr/local/lib/python3.10/dist-packages (from requests>=2.19->qiskit-ibm-runtime) (3.3.2)\n",
            "Requirement already satisfied: idna<4,>=2.5 in /usr/local/lib/python3.10/dist-packages (from requests>=2.19->qiskit-ibm-runtime) (3.7)\n",
            "Requirement already satisfied: certifi>=2017.4.17 in /usr/local/lib/python3.10/dist-packages (from requests>=2.19->qiskit-ibm-runtime) (2024.7.4)\n",
            "Requirement already satisfied: cryptography>=1.3 in /usr/local/lib/python3.10/dist-packages (from requests-ntlm>=1.1.0->qiskit-ibm-runtime) (42.0.8)\n",
            "Collecting pyspnego>=0.4.0 (from requests-ntlm>=1.1.0->qiskit-ibm-runtime)\n",
            "  Downloading pyspnego-0.11.1-py3-none-any.whl.metadata (5.4 kB)\n",
            "Requirement already satisfied: cffi>=1.12 in /usr/local/lib/python3.10/dist-packages (from cryptography>=1.3->requests-ntlm>=1.1.0->qiskit-ibm-runtime) (1.16.0)\n",
            "Collecting urllib3>=1.21.1 (from qiskit-ibm-runtime)\n",
            "  Downloading urllib3-2.2.2-py3-none-any.whl.metadata (6.4 kB)\n",
            "Requirement already satisfied: PyJWT<3.0.0,>=2.8.0 in /usr/local/lib/python3.10/dist-packages (from ibm-cloud-sdk-core<4.0.0,>=3.20.4->ibm-platform-services>=0.22.6->qiskit-ibm-runtime) (2.9.0)\n",
            "Requirement already satisfied: pbr!=2.1.0,>=2.0.0 in /usr/local/lib/python3.10/dist-packages (from stevedore>=3.0.0->qiskit>=1.1.0->qiskit-ibm-runtime) (6.0.0)\n",
            "Requirement already satisfied: mpmath<1.4,>=1.1.0 in /usr/local/lib/python3.10/dist-packages (from sympy>=1.3->qiskit>=1.1.0->qiskit-ibm-runtime) (1.3.0)\n",
            "Requirement already satisfied: pycparser in /usr/local/lib/python3.10/dist-packages (from cffi>=1.12->cryptography>=1.3->requests-ntlm>=1.1.0->qiskit-ibm-runtime) (2.22)\n",
            "Downloading qiskit_ibm_runtime-0.26.0-py3-none-any.whl (2.9 MB)\n",
            "\u001b[2K   \u001b[90m━━━━━━━━━━━━━━━━━━━━━━━━━━━━━━━━━━━━━━━━\u001b[0m \u001b[32m2.9/2.9 MB\u001b[0m \u001b[31m67.2 MB/s\u001b[0m eta \u001b[36m0:00:00\u001b[0m\n",
            "\u001b[?25hDownloading requests_ntlm-1.3.0-py3-none-any.whl (6.6 kB)\n",
            "Downloading urllib3-2.2.2-py3-none-any.whl (121 kB)\n",
            "\u001b[2K   \u001b[90m━━━━━━━━━━━━━━━━━━━━━━━━━━━━━━━━━━━━━━━━\u001b[0m \u001b[32m121.4/121.4 kB\u001b[0m \u001b[31m8.2 MB/s\u001b[0m eta \u001b[36m0:00:00\u001b[0m\n",
            "\u001b[?25hDownloading pyspnego-0.11.1-py3-none-any.whl (130 kB)\n",
            "\u001b[2K   \u001b[90m━━━━━━━━━━━━━━━━━━━━━━━━━━━━━━━━━━━━━━━━\u001b[0m \u001b[32m130.5/130.5 kB\u001b[0m \u001b[31m8.5 MB/s\u001b[0m eta \u001b[36m0:00:00\u001b[0m\n",
            "\u001b[?25hBuilding wheels for collected packages: ibm-platform-services, ibm-cloud-sdk-core\n",
            "  Building wheel for ibm-platform-services (pyproject.toml) ... \u001b[?25l\u001b[?25hdone\n",
            "  Created wheel for ibm-platform-services: filename=ibm_platform_services-0.55.2-py3-none-any.whl size=339687 sha256=9575ad7d7e5ea205010f15d91910988d1176fb036f868ac69353b0293a2e7a5e\n",
            "  Stored in directory: /root/.cache/pip/wheels/af/ef/67/6c17a948d54c37e26b0c927dc206d95a258e9a3f7ba7014c67\n",
            "  Building wheel for ibm-cloud-sdk-core (pyproject.toml) ... \u001b[?25l\u001b[?25hdone\n",
            "  Created wheel for ibm-cloud-sdk-core: filename=ibm_cloud_sdk_core-3.20.4-py3-none-any.whl size=102561 sha256=e1a92d3eb7410f424b21bd123c7180f76452f0356ac8bf614623e8a757687350\n",
            "  Stored in directory: /root/.cache/pip/wheels/b9/ce/35/49177324cf29a507d20ea78e9b859a56a449fdc92d3b617ead\n",
            "Successfully built ibm-platform-services ibm-cloud-sdk-core\n",
            "Installing collected packages: urllib3, pyspnego, ibm-cloud-sdk-core, requests-ntlm, ibm-platform-services, qiskit-ibm-runtime\n",
            "  Attempting uninstall: urllib3\n",
            "    Found existing installation: urllib3 2.0.7\n",
            "    Uninstalling urllib3-2.0.7:\n",
            "      Successfully uninstalled urllib3-2.0.7\n",
            "Successfully installed ibm-cloud-sdk-core-3.20.4 ibm-platform-services-0.55.2 pyspnego-0.11.1 qiskit-ibm-runtime-0.26.0 requests-ntlm-1.3.0 urllib3-2.2.2\n"
          ]
        }
      ],
      "source": [
        "### For people using Google-colab un-comment this cell and run it!\n",
        "!pip install qiskit\n",
        "!pip install qiskit_aer\n",
        "!pip install qiskit[visualization]\n",
        "!pip install qiskit-ibm-runtime"
      ]
    },
    {
      "cell_type": "markdown",
      "id": "44205c1e-e76f-4390-a73c-db8af35d8373",
      "metadata": {
        "id": "44205c1e-e76f-4390-a73c-db8af35d8373"
      },
      "source": [
        "###  Importing the required libraries"
      ]
    },
    {
      "cell_type": "code",
      "execution_count": null,
      "id": "b9e61404-c9c1-4582-bf4f-0fcfb5ad0861",
      "metadata": {
        "id": "b9e61404-c9c1-4582-bf4f-0fcfb5ad0861"
      },
      "outputs": [],
      "source": [
        "import time\n",
        "import numpy as np\n",
        "from qiskit import *\n",
        "from qiskit.circuit import Parameter\n",
        "from qiskit.quantum_info import Statevector, Pauli, SparsePauliOp\n",
        "from qiskit.circuit.library import RealAmplitudes\n",
        "import matplotlib.pyplot as plt\n",
        "import matplotlib.ticker as tck\n",
        "from qiskit.visualization import plot_histogram\n",
        "# %config InlineBackend.figure_format='retina'"
      ]
    },
    {
      "cell_type": "markdown",
      "id": "e863ea74-249e-45d2-9e5e-007200606b3c",
      "metadata": {
        "id": "e863ea74-249e-45d2-9e5e-007200606b3c"
      },
      "source": [
        "# Part II: Getting Started with Qiskit Runtime"
      ]
    },
    {
      "cell_type": "markdown",
      "id": "c72f9aec-de6a-4668-8de6-da61c8c378c1",
      "metadata": {
        "id": "c72f9aec-de6a-4668-8de6-da61c8c378c1"
      },
      "source": [
        "We shall get started with Qiskit Runtime. Qiskit Runtime is already installed and setup for you in the IBM Quantum Lab instance of the IBM Quantum Challenge you are in.\n",
        "\n",
        "If you are running on your local systems, you may need to install Qiskit Runtime packages which can be dones uing: `pip install qiskit-ibm-runtime`. If you have navigated to the IBM Quantum Lab throught the IBM Quantum Challenge portal, then everything should already be setup for you.\n",
        "\n",
        "To start off, the first thing to do here is to define `QiskitRuntimeService` instance to run the program on. We can use this to call the currently available two primitives as needed; `Sampler` and `Estimator` and run them on Qiskit Runtime."
      ]
    },
    {
      "cell_type": "code",
      "execution_count": null,
      "id": "a08d9314",
      "metadata": {
        "id": "a08d9314"
      },
      "outputs": [],
      "source": [
        "from qiskit_ibm_runtime import QiskitRuntimeService, Session, Options, Sampler, Estimator"
      ]
    },
    {
      "cell_type": "markdown",
      "id": "e1a8f7ea-5967-404f-ab43-3675a4c0c10a",
      "metadata": {
        "id": "e1a8f7ea-5967-404f-ab43-3675a4c0c10a"
      },
      "source": [
        "The block below saves your Runtime account credentials for your current environment. The `channel` keyword argument lets the Runtime know whether you are using the regular IBM Quantum (`channel='ibm_quantum'`) or IBM Cloud (`channel='ibm_cloud'`). We will be using the `ibm_quantum` channel for all our runs. This cell can be run just once and your credentials should be saved for that environment. And for the `token` keyword argument, your API token value is found in this link: **[quantum-computing.ibm.com/account](https://quantum-computing.ibm.com/account)**.\n",
        "\n",
        "If you are on the IBM Quantum Lab, you can simply call the `QiskitRuntimeService` with just the channel in your subsequent runs."
      ]
    },
    {
      "cell_type": "code",
      "execution_count": null,
      "id": "b9ffbb87-f5a5-453c-892e-d870f8bd7297",
      "metadata": {
        "id": "b9ffbb87-f5a5-453c-892e-d870f8bd7297"
      },
      "outputs": [],
      "source": [
        "# Save the Runtime account credentials if you have not done so already\n",
        "# If you need to overwrite the account info, please add `overwrite=True`\n",
        "# QiskitRuntimeService.save_account(channel='ibm_quantum', token='my_token', overwrite=True)"
      ]
    },
    {
      "cell_type": "code",
      "execution_count": null,
      "id": "0bf9aa54-94ec-4497-baac-3407d26a595f",
      "metadata": {
        "tags": [],
        "colab": {
          "base_uri": "https://localhost:8080/",
          "height": 297
        },
        "id": "0bf9aa54-94ec-4497-baac-3407d26a595f",
        "outputId": "ac056ff3-dee2-465f-a6cd-4bd7a0ae6dd7"
      },
      "outputs": [
        {
          "output_type": "error",
          "ename": "AccountNotFoundError",
          "evalue": "'Unable to find account.'",
          "traceback": [
            "\u001b[0;31m---------------------------------------------------------------------------\u001b[0m",
            "\u001b[0;31mAccountNotFoundError\u001b[0m                      Traceback (most recent call last)",
            "\u001b[0;32m<ipython-input-4-ed94ecbd37ce>\u001b[0m in \u001b[0;36m<cell line: 1>\u001b[0;34m()\u001b[0m\n\u001b[0;32m----> 1\u001b[0;31m \u001b[0mservice\u001b[0m \u001b[0;34m=\u001b[0m \u001b[0mQiskitRuntimeService\u001b[0m\u001b[0;34m(\u001b[0m\u001b[0mchannel\u001b[0m\u001b[0;34m=\u001b[0m\u001b[0;34m'ibm_quantum'\u001b[0m\u001b[0;34m)\u001b[0m\u001b[0;34m\u001b[0m\u001b[0;34m\u001b[0m\u001b[0m\n\u001b[0m",
            "\u001b[0;32m/usr/local/lib/python3.10/dist-packages/qiskit_ibm_runtime/qiskit_runtime_service.py\u001b[0m in \u001b[0;36m__init__\u001b[0;34m(self, channel, token, url, filename, name, instance, proxies, verify, channel_strategy, private_endpoint)\u001b[0m\n\u001b[1;32m    127\u001b[0m         \u001b[0msuper\u001b[0m\u001b[0;34m(\u001b[0m\u001b[0;34m)\u001b[0m\u001b[0;34m.\u001b[0m\u001b[0m__init__\u001b[0m\u001b[0;34m(\u001b[0m\u001b[0;34m)\u001b[0m\u001b[0;34m\u001b[0m\u001b[0;34m\u001b[0m\u001b[0m\n\u001b[1;32m    128\u001b[0m \u001b[0;34m\u001b[0m\u001b[0m\n\u001b[0;32m--> 129\u001b[0;31m         self._account = self._discover_account(\n\u001b[0m\u001b[1;32m    130\u001b[0m             \u001b[0mtoken\u001b[0m\u001b[0;34m=\u001b[0m\u001b[0mtoken\u001b[0m\u001b[0;34m,\u001b[0m\u001b[0;34m\u001b[0m\u001b[0;34m\u001b[0m\u001b[0m\n\u001b[1;32m    131\u001b[0m             \u001b[0murl\u001b[0m\u001b[0;34m=\u001b[0m\u001b[0murl\u001b[0m\u001b[0;34m,\u001b[0m\u001b[0;34m\u001b[0m\u001b[0;34m\u001b[0m\u001b[0m\n",
            "\u001b[0;32m/usr/local/lib/python3.10/dist-packages/qiskit_ibm_runtime/qiskit_runtime_service.py\u001b[0m in \u001b[0;36m_discover_account\u001b[0;34m(self, token, url, instance, channel, filename, name, proxies, verify, channel_strategy)\u001b[0m\n\u001b[1;32m    239\u001b[0m                 \u001b[0;32mif\u001b[0m \u001b[0murl\u001b[0m\u001b[0;34m:\u001b[0m\u001b[0;34m\u001b[0m\u001b[0;34m\u001b[0m\u001b[0m\n\u001b[1;32m    240\u001b[0m                     \u001b[0mlogger\u001b[0m\u001b[0;34m.\u001b[0m\u001b[0mwarning\u001b[0m\u001b[0;34m(\u001b[0m\u001b[0;34m\"Loading default %s account. Input 'url' is ignored.\"\u001b[0m\u001b[0;34m,\u001b[0m \u001b[0mchannel\u001b[0m\u001b[0;34m)\u001b[0m\u001b[0;34m\u001b[0m\u001b[0;34m\u001b[0m\u001b[0m\n\u001b[0;32m--> 241\u001b[0;31m                 \u001b[0maccount\u001b[0m \u001b[0;34m=\u001b[0m \u001b[0mAccountManager\u001b[0m\u001b[0;34m.\u001b[0m\u001b[0mget\u001b[0m\u001b[0;34m(\u001b[0m\u001b[0mfilename\u001b[0m\u001b[0;34m=\u001b[0m\u001b[0mfilename\u001b[0m\u001b[0;34m,\u001b[0m \u001b[0mname\u001b[0m\u001b[0;34m=\u001b[0m\u001b[0mname\u001b[0m\u001b[0;34m,\u001b[0m \u001b[0mchannel\u001b[0m\u001b[0;34m=\u001b[0m\u001b[0mchannel\u001b[0m\u001b[0;34m)\u001b[0m\u001b[0;34m\u001b[0m\u001b[0;34m\u001b[0m\u001b[0m\n\u001b[0m\u001b[1;32m    242\u001b[0m         \u001b[0;32melif\u001b[0m \u001b[0many\u001b[0m\u001b[0;34m(\u001b[0m\u001b[0;34m[\u001b[0m\u001b[0mtoken\u001b[0m\u001b[0;34m,\u001b[0m \u001b[0murl\u001b[0m\u001b[0;34m]\u001b[0m\u001b[0;34m)\u001b[0m\u001b[0;34m:\u001b[0m\u001b[0;34m\u001b[0m\u001b[0;34m\u001b[0m\u001b[0m\n\u001b[1;32m    243\u001b[0m             \u001b[0;31m# Let's not infer based on these attributes as they may change in the future.\u001b[0m\u001b[0;34m\u001b[0m\u001b[0;34m\u001b[0m\u001b[0m\n",
            "\u001b[0;32m/usr/local/lib/python3.10/dist-packages/qiskit_ibm_runtime/accounts/management.py\u001b[0m in \u001b[0;36mget\u001b[0;34m(cls, filename, name, channel)\u001b[0m\n\u001b[1;32m    195\u001b[0m                 \u001b[0;32mreturn\u001b[0m \u001b[0mAccount\u001b[0m\u001b[0;34m.\u001b[0m\u001b[0mfrom_saved_format\u001b[0m\u001b[0;34m(\u001b[0m\u001b[0mall_config\u001b[0m\u001b[0;34m[\u001b[0m\u001b[0maccount_name\u001b[0m\u001b[0;34m]\u001b[0m\u001b[0;34m)\u001b[0m\u001b[0;34m\u001b[0m\u001b[0;34m\u001b[0m\u001b[0m\n\u001b[1;32m    196\u001b[0m \u001b[0;34m\u001b[0m\u001b[0m\n\u001b[0;32m--> 197\u001b[0;31m         \u001b[0;32mraise\u001b[0m \u001b[0mAccountNotFoundError\u001b[0m\u001b[0;34m(\u001b[0m\u001b[0;34m\"Unable to find account.\"\u001b[0m\u001b[0;34m)\u001b[0m\u001b[0;34m\u001b[0m\u001b[0;34m\u001b[0m\u001b[0m\n\u001b[0m\u001b[1;32m    198\u001b[0m \u001b[0;34m\u001b[0m\u001b[0m\n\u001b[1;32m    199\u001b[0m     \u001b[0;34m@\u001b[0m\u001b[0mclassmethod\u001b[0m\u001b[0;34m\u001b[0m\u001b[0;34m\u001b[0m\u001b[0m\n",
            "\u001b[0;31mAccountNotFoundError\u001b[0m: 'Unable to find account.'"
          ]
        }
      ],
      "source": [
        " service = QiskitRuntimeService(channel='ibm_quantum')"
      ]
    },
    {
      "cell_type": "markdown",
      "id": "26b7d75e-ebed-49bc-9e31-3d570dd2242d",
      "metadata": {
        "id": "26b7d75e-ebed-49bc-9e31-3d570dd2242d"
      },
      "source": [
        "Now that your service is setup, the service allows you to view all the backends that you have access to. Let's run the command below to display all the available backends that can utilize Qiskit Runtime."
      ]
    },
    {
      "cell_type": "code",
      "execution_count": null,
      "id": "37f4ac11-f69d-4d2b-acd6-86230ffdd2b2",
      "metadata": {
        "id": "37f4ac11-f69d-4d2b-acd6-86230ffdd2b2",
        "outputId": "5901d813-f168-4773-aaa8-e3c7c64b2685"
      },
      "outputs": [
        {
          "data": {
            "text/plain": [
              "[<IBMBackend('ibmq_qasm_simulator')>,\n",
              " <IBMBackend('ibmq_lima')>,\n",
              " <IBMBackend('ibmq_belem')>,\n",
              " <IBMBackend('ibmq_quito')>,\n",
              " <IBMBackend('simulator_statevector')>,\n",
              " <IBMBackend('simulator_mps')>,\n",
              " <IBMBackend('simulator_extended_stabilizer')>,\n",
              " <IBMBackend('simulator_stabilizer')>,\n",
              " <IBMBackend('ibmq_manila')>,\n",
              " <IBMBackend('ibm_nairobi')>,\n",
              " <IBMBackend('ibm_oslo')>]"
            ]
          },
          "execution_count": 4,
          "metadata": {},
          "output_type": "execute_result"
        }
      ],
      "source": [
        "# service.backends()"
      ]
    },
    {
      "cell_type": "markdown",
      "id": "b9005172-89b5-41f3-b391-781c38951a76",
      "metadata": {
        "tags": [],
        "id": "b9005172-89b5-41f3-b391-781c38951a76"
      },
      "source": [
        "# Example using Sampler"
      ]
    },
    {
      "cell_type": "markdown",
      "id": "b88b9d10-6cf6-4723-b33b-1e0494efed12",
      "metadata": {
        "tags": [],
        "id": "b88b9d10-6cf6-4723-b33b-1e0494efed12"
      },
      "source": [
        "### Bernstein-Vazirani algorithm\n",
        "\n",
        "This algorithm is one of special quantum algorithms which showed that there can be advantages in using a quantum computer as a computational tool for more complex problems.\n",
        "\n",
        "There is a function returning the bitwise product of the input with a hidden string of bits $ s $. Its length is $ n $.\n",
        "\n",
        "$$ f(x) = s ⋅ x (\\mathrm{mod} 2) $$\n",
        "\n",
        "To find the hidden string, we would need to call the function $f$ for $ n $ times. However, using a quantum computer, we can solve this problem with 100% confidence after **only one call** to the function . The quantum Bernstein-Vazirani algorithm to find the hidden bit string is very simple:\n",
        "\n",
        "1. Initialize the inputs qubits to the state $|0\\rangle^{\\otimes n}$, and output qubit to $|-\\rangle$.\n",
        "2. Apply Hadamard gates to the input register\n",
        "3. Query the oracle\n",
        "4. Apply Hadamard gates to the input register\n",
        "5. Measure\n",
        "\n",
        "For more in detailed information about the Bernstein-Vazirani algorithm, feel free to check out this helpful chapter in the Qiskit textbook: **https://learn.qiskit.org/course/ch-algorithms/bernstein-vazirani-algorithm**. Or you may refer Ep. 6 of Coding with Qiskit Season 1 in Qiskit Youtube: **[Bernstein-Vazirani Algorithm](https://youtu.be/sqJIpHYl7oo)**.\n",
        "\n",
        "In the below, there is an example for the Bernstein Vazirani algorithm to find the hidden bit string \"001\"."
      ]
    },
    {
      "cell_type": "code",
      "execution_count": null,
      "id": "c4c73a73-965c-40fb-a710-a890b40c9f8b",
      "metadata": {
        "colab": {
          "base_uri": "https://localhost:8080/"
        },
        "id": "c4c73a73-965c-40fb-a710-a890b40c9f8b",
        "outputId": "646d8f9e-d912-42c2-e149-527a0d90e9a2"
      },
      "outputs": [
        {
          "output_type": "stream",
          "name": "stdout",
          "text": [
            "3\n"
          ]
        }
      ],
      "source": [
        "hidden = \"001\"\n",
        "print(len(hidden))"
      ]
    },
    {
      "cell_type": "markdown",
      "id": "4ad9114a-cfd5-43de-9319-263fae1ca9ba",
      "metadata": {
        "id": "4ad9114a-cfd5-43de-9319-263fae1ca9ba"
      },
      "source": [
        "For this hidden string, we need 3 input qubits and 1 output qubit."
      ]
    },
    {
      "cell_type": "code",
      "execution_count": null,
      "id": "43b61779-5c84-4026-afde-dd24bffa0515",
      "metadata": {
        "colab": {
          "base_uri": "https://localhost:8080/",
          "height": 384
        },
        "id": "43b61779-5c84-4026-afde-dd24bffa0515",
        "outputId": "3ddb1e87-8b82-42f8-ad0d-acd678bf0e67"
      },
      "outputs": [
        {
          "output_type": "display_data",
          "data": {
            "text/plain": [
              "<Figure size 162.08x451.5 with 1 Axes>"
            ],
            "image/png": "[encoded data removed]"
          },
          "metadata": {}
        }
      ],
      "source": [
        "# Make a quantum circuit\n",
        "qc = QuantumCircuit(4, 3)\n",
        "display(qc.draw(output=\"mpl\"))"
      ]
    },
    {
      "cell_type": "markdown",
      "id": "03f0b1e9-3891-4556-a6c3-d3d48b81e14e",
      "metadata": {
        "id": "03f0b1e9-3891-4556-a6c3-d3d48b81e14e"
      },
      "source": [
        "Step 1. Initialize the inputs qubits to the state $|0\\rangle^{\\otimes n}$, and output qubit to $|-\\rangle$.\n",
        "\n",
        "At first every qubit is initialized as $|0\\rangle$ so we don't have to apply any gate for input qubits. However, the output qubit state should be changed as $|-\\rangle$. For it, we will apply X-gate and then H-gate (Hadamard gate)."
      ]
    },
    {
      "cell_type": "code",
      "execution_count": null,
      "id": "e972546d-7945-48b1-a0c8-64be4211afe4",
      "metadata": {
        "colab": {
          "base_uri": "https://localhost:8080/",
          "height": 384
        },
        "id": "e972546d-7945-48b1-a0c8-64be4211afe4",
        "outputId": "54036bc1-5acb-4126-a73b-ca35adafea82"
      },
      "outputs": [
        {
          "output_type": "display_data",
          "data": {
            "text/plain": [
              "<Figure size 287.496x451.5 with 1 Axes>"
            ],
            "image/png": "[encoded data removed]"
          },
          "metadata": {}
        }
      ],
      "source": [
        "qc.x(3)\n",
        "qc.h(3)\n",
        "display(qc.draw(output=\"mpl\"))"
      ]
    },
    {
      "cell_type": "markdown",
      "id": "749bd8b3-f80e-4405-ac8a-e4d8ce1e3f35",
      "metadata": {
        "id": "749bd8b3-f80e-4405-ac8a-e4d8ce1e3f35"
      },
      "source": [
        "Step 2. Apply Hadamard gates to the input register.\n",
        "\n",
        "We will apply Hadamard gates to each input qubit."
      ]
    },
    {
      "cell_type": "code",
      "execution_count": null,
      "id": "05a42af6-1c97-463a-b0df-e12622bb360a",
      "metadata": {
        "colab": {
          "base_uri": "https://localhost:8080/",
          "height": 384
        },
        "id": "05a42af6-1c97-463a-b0df-e12622bb360a",
        "outputId": "3aa8924f-7d4f-41a8-dbd8-dea8b2c08571"
      },
      "outputs": [
        {
          "output_type": "display_data",
          "data": {
            "text/plain": [
              "<Figure size 287.496x451.5 with 1 Axes>"
            ],
            "image/png": "[encoded data removed]"
          },
          "metadata": {}
        }
      ],
      "source": [
        "qc.h(0)\n",
        "qc.h(1)\n",
        "qc.h(2)\n",
        "display(qc.draw(output=\"mpl\"))"
      ]
    },
    {
      "cell_type": "markdown",
      "id": "3dbfb8d2-3da8-4567-9e64-d7e10b650c4a",
      "metadata": {
        "id": "3dbfb8d2-3da8-4567-9e64-d7e10b650c4a"
      },
      "source": [
        "Step 3. Query the oracle.\n",
        "\n",
        "We will use CNOT gate to query the oracle. As our hidden circuit is \"001\", we will apply CNOT gate to qubit 0 and the output gate. Note: In Qiskit, numbers are assigned to the bits in a string **from right to left**."
      ]
    },
    {
      "cell_type": "code",
      "execution_count": null,
      "id": "620eaa24-860c-42dc-93b0-14a58ed1ff21",
      "metadata": {
        "colab": {
          "base_uri": "https://localhost:8080/",
          "height": 384
        },
        "id": "620eaa24-860c-42dc-93b0-14a58ed1ff21",
        "outputId": "f0299519-7425-4ee3-c889-c486229026cd"
      },
      "outputs": [
        {
          "output_type": "display_data",
          "data": {
            "text/plain": [
              "<Figure size 371.107x451.5 with 1 Axes>"
            ],
            "image/png": "[encoded data removed]"
          },
          "metadata": {}
        }
      ],
      "source": [
        "qc.cx(0,3)\n",
        "display(qc.draw(output=\"mpl\"))"
      ]
    },
    {
      "cell_type": "markdown",
      "id": "4ecb4a1c-4a2a-4de0-81b4-486819305665",
      "metadata": {
        "id": "4ecb4a1c-4a2a-4de0-81b4-486819305665"
      },
      "source": [
        "Step 4. Apply Hadamard gates to the input register.\n",
        "\n",
        "We will apply Hadamard gates to each input qubit again."
      ]
    },
    {
      "cell_type": "code",
      "execution_count": null,
      "id": "ca75b927-0cb5-477d-a530-0b5fc0ce5001",
      "metadata": {
        "colab": {
          "base_uri": "https://localhost:8080/",
          "height": 384
        },
        "id": "ca75b927-0cb5-477d-a530-0b5fc0ce5001",
        "outputId": "eee0182d-7166-4ed1-acaf-2fa83e8a992d"
      },
      "outputs": [
        {
          "output_type": "display_data",
          "data": {
            "text/plain": [
              "<Figure size 538.33x451.5 with 1 Axes>"
            ],
            "image/png": "[encoded data removed]"
          },
          "metadata": {}
        }
      ],
      "source": [
        "qc.barrier()\n",
        "qc.h(0)\n",
        "qc.h(1)\n",
        "qc.h(2)\n",
        "display(qc.draw(output=\"mpl\"))"
      ]
    },
    {
      "cell_type": "markdown",
      "id": "1b7d1e11-f6b0-41df-a974-56b83b140b2b",
      "metadata": {
        "id": "1b7d1e11-f6b0-41df-a974-56b83b140b2b"
      },
      "source": [
        "Step 5. Measure.\n",
        "\n",
        "We will measure all the input qubits with [`measure`](https://qiskit.org/documentation/stubs/qiskit.circuit.QuantumCircuit.measure.html) method."
      ]
    },
    {
      "cell_type": "code",
      "execution_count": null,
      "id": "1ab053c0-7c10-41ba-8dd8-0cf37109e6c2",
      "metadata": {
        "colab": {
          "base_uri": "https://localhost:8080/",
          "height": 384
        },
        "id": "1ab053c0-7c10-41ba-8dd8-0cf37109e6c2",
        "outputId": "d9a235da-e580-40d0-c038-e804ff79a4b4"
      },
      "outputs": [
        {
          "output_type": "display_data",
          "data": {
            "text/plain": [
              "<Figure size 789.163x451.5 with 1 Axes>"
            ],
            "image/png": "[encoded data removed]"
          },
          "metadata": {}
        }
      ],
      "source": [
        "qc.measure(range(3), range(3))\n",
        "display(qc.draw(output=\"mpl\"))"
      ]
    },
    {
      "cell_type": "markdown",
      "id": "cc23d50c-3b3a-4d1f-9fcb-2f991de384ed",
      "metadata": {
        "id": "cc23d50c-3b3a-4d1f-9fcb-2f991de384ed"
      },
      "source": [
        "The circuit is ready to run on the simulator. You can check the result by running the cell below."
      ]
    },
    {
      "cell_type": "code",
      "execution_count": null,
      "id": "8edb2cbb-fa51-434d-aeff-08a9e3cdf1c9",
      "metadata": {
        "colab": {
          "base_uri": "https://localhost:8080/"
        },
        "id": "8edb2cbb-fa51-434d-aeff-08a9e3cdf1c9",
        "outputId": "7c51feb6-435b-41be-f235-e1244d5de898"
      },
      "outputs": [
        {
          "output_type": "execute_result",
          "data": {
            "text/plain": [
              "{'001': 1024}"
            ]
          },
          "metadata": {},
          "execution_count": 14
        }
      ],
      "source": [
        "# Use local simulator\n",
        "from qiskit_aer import QasmSimulator\n",
        "\n",
        "shots = 1024\n",
        "qasm_backend = QasmSimulator()\n",
        "results = qasm_backend.run(circuits= qc, shots = shots).result()\n",
        "results.get_counts()\n"
      ]
    },
    {
      "cell_type": "markdown",
      "id": "f0e29324-ae44-4bdb-8a9d-8e7a123a061c",
      "metadata": {
        "id": "f0e29324-ae44-4bdb-8a9d-8e7a123a061c"
      },
      "source": [
        "If you see the result, you can see the hidden string \"001\" which we set at very first."
      ]
    },
    {
      "cell_type": "markdown",
      "id": "6ca08509-d58a-4f86-9ac7-a74e2df1d5b1",
      "metadata": {
        "id": "6ca08509-d58a-4f86-9ac7-a74e2df1d5b1"
      },
      "source": [
        "<a id=\"exercise1\"></a>\n",
        "<div class=\"alert alert-block alert-success\">\n",
        "    \n",
        "<b> Exercise 1:</b>\n",
        "    \n",
        "Let us build the Bernstein Vazirani function.\n",
        "Note that there is only one parameter which will be a hidden string.\n",
        "This string consists of \"0\" and \"1\".\n",
        "In the below code block, you should build a function which works well in all general strings\n",
        "to pass the grader.\n",
        "    \n",
        "</div>"
      ]
    },
    {
      "cell_type": "code",
      "execution_count": null,
      "id": "a7709c81-9b7a-4b86-adf3-7d4e55cc3714",
      "metadata": {
        "id": "a7709c81-9b7a-4b86-adf3-7d4e55cc3714"
      },
      "outputs": [],
      "source": [
        "def bernstein_vazirani(string):\n",
        "    #Write your code here!\n",
        "    # Save the length of string\n",
        "\n",
        "\n",
        "    return qc"
      ]
    },
    {
      "cell_type": "code",
      "execution_count": null,
      "id": "93d96139",
      "metadata": {
        "colab": {
          "base_uri": "https://localhost:8080/",
          "height": 384
        },
        "id": "93d96139",
        "outputId": "48da12d9-f08a-48f9-bcab-bed61ecb4b9a"
      },
      "outputs": [
        {
          "output_type": "execute_result",
          "data": {
            "text/plain": [
              "<Figure size 789.163x451.5 with 1 Axes>"
            ],
            "image/png": "[encoded data removed]"
          },
          "metadata": {},
          "execution_count": 16
        }
      ],
      "source": [
        "bernstein_vazirani('001').draw('mpl')"
      ]
    },
    {
      "cell_type": "markdown",
      "id": "11db2886",
      "metadata": {
        "id": "11db2886"
      },
      "source": [
        "Now, we shall call the function above to construct a Bernstein-Vazirani circuit as defined:"
      ]
    },
    {
      "cell_type": "code",
      "execution_count": null,
      "id": "9b375a0e",
      "metadata": {
        "colab": {
          "base_uri": "https://localhost:8080/",
          "height": 384
        },
        "id": "9b375a0e",
        "outputId": "caaeaf35-874c-469f-bf9a-1d0c18493c80"
      },
      "outputs": [
        {
          "output_type": "execute_result",
          "data": {
            "text/plain": [
              "<Figure size 789.163x451.5 with 1 Axes>"
            ],
            "image/png": "[encoded data removed]"
          },
          "metadata": {},
          "execution_count": 17
        }
      ],
      "source": [
        "# Submit your answer using following code\n",
        "hidden_string = '1011'\n",
        "qc_bz  =bernstein_vazirani(hidden_string)\n",
        "qc_bz.draw('mpl')"
      ]
    },
    {
      "cell_type": "code",
      "execution_count": null,
      "id": "f2db275d",
      "metadata": {
        "colab": {
          "base_uri": "https://localhost:8080/"
        },
        "id": "f2db275d",
        "outputId": "685ca5cb-8bf6-4b5e-d300-1aa534565bfc"
      },
      "outputs": [
        {
          "output_type": "execute_result",
          "data": {
            "text/plain": [
              "{'001': 1024}"
            ]
          },
          "metadata": {},
          "execution_count": 18
        }
      ],
      "source": [
        "sim_result = qasm_backend.run(qc_bz).result()\n",
        "sim_result.get_counts()"
      ]
    },
    {
      "cell_type": "code",
      "source": [],
      "metadata": {
        "id": "krLFZaCJd4YT"
      },
      "id": "krLFZaCJd4YT",
      "execution_count": null,
      "outputs": []
    },
    {
      "cell_type": "code",
      "execution_count": null,
      "id": "e9de4f5e",
      "metadata": {
        "colab": {
          "base_uri": "https://localhost:8080/"
        },
        "id": "e9de4f5e",
        "outputId": "d689b198-3d9b-4dee-de11-8826297e12bd"
      },
      "outputs": [
        {
          "output_type": "stream",
          "name": "stdout",
          "text": [
            "The hidden key is: 001\n"
          ]
        }
      ],
      "source": [
        "print('The hidden key is:',list(sim_result.get_counts().keys())[0])"
      ]
    },
    {
      "cell_type": "markdown",
      "id": "5fa79c90",
      "metadata": {
        "id": "5fa79c90"
      },
      "source": [
        "# Deutsch-Jozsa Algorithm\n",
        "\n",
        "- To implement the Deutsch-Jozsa algorithm in Qiskit, we'll start by generating a quantum circuit.\n",
        "- That implements a query operation for a randomly selected function that satisfies the promise: with 50% chance the function is constant, and with 50% change the function is balanced.\n",
        "- For each possibility, the function is selected uniformly from the possibilities.\n"
      ]
    },
    {
      "cell_type": "code",
      "execution_count": null,
      "id": "e2afd303",
      "metadata": {
        "id": "e2afd303"
      },
      "outputs": [],
      "source": [
        "from qiskit import QuantumCircuit\n",
        "import numpy as np\n",
        "\n",
        "def dj_function(num_qubits):\n",
        "    \"\"\"\n",
        "    Create a random Deutsch-Jozsa function.\n",
        "    \"\"\"\n",
        "\n",
        "    qc = QuantumCircuit(num_qubits + 1)\n",
        "    if np.random.randint(0, 2):\n",
        "        # Flip output qubit with 50% chance\n",
        "        qc.x(num_qubits)\n",
        "    if np.random.randint(0, 2):\n",
        "        # return constant circuit with 50% chance\n",
        "        return qc\n",
        "\n",
        "    # next, choose half the possible input states\n",
        "    on_states = np.random.choice(\n",
        "        range(2**num_qubits),  # numbers to sample from\n",
        "        2**num_qubits // 2,  # number of samples\n",
        "        replace=False,  # makes sure states are only sampled once\n",
        "    )\n",
        "\n",
        "    def add_cx(qc, bit_string):\n",
        "        for qubit, bit in enumerate(reversed(bit_string)):\n",
        "            if bit == \"1\":\n",
        "                qc.x(qubit)\n",
        "        return qc\n",
        "\n",
        "    for state in on_states:\n",
        "        qc.barrier()  # Barriers are added to help visualize how the functions are created. They can safely be removed.\n",
        "        qc = add_cx(qc, f\"{state:0b}\")\n",
        "        qc.mcx(list(range(num_qubits)), num_qubits)\n",
        "        qc = add_cx(qc, f\"{state:0b}\")\n",
        "\n",
        "    qc.barrier()\n",
        "\n",
        "    return qc"
      ]
    },
    {
      "cell_type": "markdown",
      "id": "2582a4ec",
      "metadata": {
        "id": "2582a4ec"
      },
      "source": [
        "We can show the quantum circuit implementation of the query gate using the draw method."
      ]
    },
    {
      "cell_type": "code",
      "execution_count": null,
      "id": "99b23e6b",
      "metadata": {
        "id": "99b23e6b",
        "outputId": "9fd88fd5-f1f2-458f-8bbd-5e1fca18565c"
      },
      "outputs": [
        {
          "data": {
            "text/html": [
              "<pre style=\"word-wrap: normal;white-space: pre;background: #fff0;line-height: 1.1;font-family: &quot;Courier New&quot;,Courier,monospace\">      ░ ┌───┐     ┌───┐ ░                 ░                 ░       ░ \n",
              "q_0: ─░─┤ X ├──■──┤ X ├─░────────■────────░────────■────────░───■───░─\n",
              "      ░ ├───┤  │  ├───┤ ░ ┌───┐  │  ┌───┐ ░        │        ░   │   ░ \n",
              "q_1: ─░─┤ X ├──■──┤ X ├─░─┤ X ├──■──┤ X ├─░────────■────────░───■───░─\n",
              "      ░ └───┘  │  └───┘ ░ ├───┤  │  ├───┤ ░ ┌───┐  │  ┌───┐ ░   │   ░ \n",
              "q_2: ─░────────■────────░─┤ X ├──■──┤ X ├─░─┤ X ├──■──┤ X ├─░───■───░─\n",
              "      ░      ┌─┴─┐      ░ └───┘┌─┴─┐└───┘ ░ └───┘┌─┴─┐└───┘ ░ ┌─┴─┐ ░ \n",
              "q_3: ─░──────┤ X ├──────░──────┤ X ├──────░──────┤ X ├──────░─┤ X ├─░─\n",
              "      ░      └───┘      ░      └───┘      ░      └───┘      ░ └───┘ ░ </pre>"
            ],
            "text/plain": [
              "      ░ ┌───┐     ┌───┐ ░                 ░                 ░       ░ \n",
              "q_0: ─░─┤ X ├──■──┤ X ├─░────────■────────░────────■────────░───■───░─\n",
              "      ░ ├───┤  │  ├───┤ ░ ┌───┐  │  ┌───┐ ░        │        ░   │   ░ \n",
              "q_1: ─░─┤ X ├──■──┤ X ├─░─┤ X ├──■──┤ X ├─░────────■────────░───■───░─\n",
              "      ░ └───┘  │  └───┘ ░ ├───┤  │  ├───┤ ░ ┌───┐  │  ┌───┐ ░   │   ░ \n",
              "q_2: ─░────────■────────░─┤ X ├──■──┤ X ├─░─┤ X ├──■──┤ X ├─░───■───░─\n",
              "      ░      ┌─┴─┐      ░ └───┘┌─┴─┐└───┘ ░ └───┘┌─┴─┐└───┘ ░ ┌─┴─┐ ░ \n",
              "q_3: ─░──────┤ X ├──────░──────┤ X ├──────░──────┤ X ├──────░─┤ X ├─░─\n",
              "      ░      └───┘      ░      └───┘      ░      └───┘      ░ └───┘ ░ "
            ]
          },
          "metadata": {},
          "output_type": "display_data"
        }
      ],
      "source": [
        "display(dj_function(3).draw())"
      ]
    },
    {
      "cell_type": "code",
      "execution_count": null,
      "id": "820f3667",
      "metadata": {
        "id": "820f3667"
      },
      "outputs": [],
      "source": [
        "def compile_circuit(function: QuantumCircuit):\n",
        "    \"\"\"\n",
        "    Compiles a circuit for use in the Deutsch-Jozsa algorithm.\n",
        "    \"\"\"\n",
        "    n = function.num_qubits - 1\n",
        "    qc = QuantumCircuit(n + 1, n)\n",
        "    qc.x(n)\n",
        "    qc.h(range(n + 1))\n",
        "    qc.compose(function, inplace=True)\n",
        "    qc.h(range(n))\n",
        "    qc.measure(range(n), range(n))\n",
        "    return qc"
      ]
    },
    {
      "cell_type": "markdown",
      "id": "6999a27b",
      "metadata": {
        "id": "6999a27b"
      },
      "source": [
        "Finally, a function that runs the Deutsch-Jozsa circuit once is defined.\n",
        "\n"
      ]
    },
    {
      "cell_type": "code",
      "execution_count": null,
      "id": "ff0c5e9e",
      "metadata": {
        "id": "ff0c5e9e"
      },
      "outputs": [],
      "source": [
        "from qiskit_aer import AerSimulator\n",
        "\n",
        "def dj_algorithm(function: QuantumCircuit):\n",
        "    \"\"\"\n",
        "    Determine if a Deutsch-Jozsa function is constant or balanced.\n",
        "    \"\"\"\n",
        "    qc = compile_circuit(function)\n",
        "\n",
        "    result = AerSimulator().run(qc, shots=1, memory=True).result()\n",
        "    measurements = result.get_memory()\n",
        "    if \"1\" in measurements[0]:\n",
        "        return \"balanced\"\n",
        "    return \"constant\""
      ]
    },
    {
      "cell_type": "code",
      "execution_count": null,
      "id": "bd23e892",
      "metadata": {
        "id": "bd23e892",
        "outputId": "e45870da-879b-440f-d230-5a46783606a7"
      },
      "outputs": [
        {
          "data": {
            "text/html": [
              "<pre style=\"word-wrap: normal;white-space: pre;background: #fff0;line-height: 1.1;font-family: &quot;Courier New&quot;,Courier,monospace\">           ░                 ░ ┌───┐     ┌───┐ ░                 ░ ┌───┐     »\n",
              "q_0: ──────░────────■────────░─┤ X ├──■──┤ X ├─░────────■────────░─┤ X ├──■──»\n",
              "           ░ ┌───┐  │  ┌───┐ ░ ├───┤  │  ├───┤ ░ ┌───┐  │  ┌───┐ ░ ├───┤  │  »\n",
              "q_1: ──────░─┤ X ├──■──┤ X ├─░─┤ X ├──■──┤ X ├─░─┤ X ├──■──┤ X ├─░─┤ X ├──■──»\n",
              "           ░ ├───┤  │  ├───┤ ░ └───┘  │  └───┘ ░ └───┘  │  └───┘ ░ ├───┤  │  »\n",
              "q_2: ──────░─┤ X ├──■──┤ X ├─░────────■────────░────────■────────░─┤ X ├──■──»\n",
              "     ┌───┐ ░ └───┘┌─┴─┐└───┘ ░      ┌─┴─┐      ░      ┌─┴─┐      ░ └───┘┌─┴─┐»\n",
              "q_3: ┤ X ├─░──────┤ X ├──────░──────┤ X ├──────░──────┤ X ├──────░──────┤ X ├»\n",
              "     └───┘ ░      └───┘      ░      └───┘      ░      └───┘      ░      └───┘»\n",
              "«     ┌───┐ ░ \n",
              "«q_0: ┤ X ├─░─\n",
              "«     ├───┤ ░ \n",
              "«q_1: ┤ X ├─░─\n",
              "«     ├───┤ ░ \n",
              "«q_2: ┤ X ├─░─\n",
              "«     └───┘ ░ \n",
              "«q_3: ──────░─\n",
              "«           ░ </pre>"
            ],
            "text/plain": [
              "           ░                 ░ ┌───┐     ┌───┐ ░                 ░ ┌───┐     »\n",
              "q_0: ──────░────────■────────░─┤ X ├──■──┤ X ├─░────────■────────░─┤ X ├──■──»\n",
              "           ░ ┌───┐  │  ┌───┐ ░ ├───┤  │  ├───┤ ░ ┌───┐  │  ┌───┐ ░ ├───┤  │  »\n",
              "q_1: ──────░─┤ X ├──■──┤ X ├─░─┤ X ├──■──┤ X ├─░─┤ X ├──■──┤ X ├─░─┤ X ├──■──»\n",
              "           ░ ├───┤  │  ├───┤ ░ └───┘  │  └───┘ ░ └───┘  │  └───┘ ░ ├───┤  │  »\n",
              "q_2: ──────░─┤ X ├──■──┤ X ├─░────────■────────░────────■────────░─┤ X ├──■──»\n",
              "     ┌───┐ ░ └───┘┌─┴─┐└───┘ ░      ┌─┴─┐      ░      ┌─┴─┐      ░ └───┘┌─┴─┐»\n",
              "q_3: ┤ X ├─░──────┤ X ├──────░──────┤ X ├──────░──────┤ X ├──────░──────┤ X ├»\n",
              "     └───┘ ░      └───┘      ░      └───┘      ░      └───┘      ░      └───┘»\n",
              "«     ┌───┐ ░ \n",
              "«q_0: ┤ X ├─░─\n",
              "«     ├───┤ ░ \n",
              "«q_1: ┤ X ├─░─\n",
              "«     ├───┤ ░ \n",
              "«q_2: ┤ X ├─░─\n",
              "«     └───┘ ░ \n",
              "«q_3: ──────░─\n",
              "«           ░ "
            ]
          },
          "metadata": {},
          "output_type": "display_data"
        },
        {
          "data": {
            "text/plain": [
              "'balanced'"
            ]
          },
          "metadata": {},
          "output_type": "display_data"
        }
      ],
      "source": [
        "f = dj_function(3)\n",
        "display(f.draw())\n",
        "display(dj_algorithm(f))"
      ]
    },
    {
      "cell_type": "markdown",
      "id": "95055945",
      "metadata": {
        "id": "95055945"
      },
      "source": [
        "# Additional information\n",
        "\n",
        "<b>Created by:</b> Dayeong Kang, Yuri Kobayashi, Vishal Bajpe, Kifumi Numata\n",
        "\n",
        "\n",
        "<b>Advisor:</b> Ikko Hanamura\n",
        "<b>Presented by:</b> Sumit\n",
        "<b>Creative assets by:</b> Radha Pyari Sandhir\n",
        "\n",
        "Version: 1.0"
      ]
    },
    {
      "cell_type": "code",
      "execution_count": null,
      "id": "cacb1fac",
      "metadata": {
        "colab": {
          "base_uri": "https://localhost:8080/",
          "height": 36
        },
        "id": "cacb1fac",
        "outputId": "88fae03c-ea86-4624-b4bb-52a6d275cd66"
      },
      "outputs": [
        {
          "output_type": "execute_result",
          "data": {
            "text/plain": [
              "'1.1.1'"
            ],
            "application/vnd.google.colaboratory.intrinsic+json": {
              "type": "string"
            }
          },
          "metadata": {},
          "execution_count": 21
        }
      ],
      "source": [
        "import qiskit\n",
        "qiskit.__version__"
      ]
    },
    {
      "cell_type": "code",
      "execution_count": null,
      "id": "785a7732",
      "metadata": {
        "id": "785a7732"
      },
      "outputs": [],
      "source": [
        "def bernstein_vazirani(string):\n",
        "\n",
        "  stringlen = len(string)\n",
        "  qc = QuantumCircuit(stringlen+1, stringlen)\n",
        "  qc.x(stringlen)\n",
        "  qc.h(range(stringlen+1))\n",
        "  for i in range(stringlen):\n",
        "    if string[i] == '1':\n",
        "      qc.cx(i,stringlen)\n",
        "\n",
        "      qc.barrier()\n",
        "\n",
        "  qc.h(range(stringlen))\n",
        "  qc.barrier()\n",
        "\n",
        "  qc.measure(range(stringlen), range(stringlen))\n",
        "  return qc"
      ]
    },
    {
      "cell_type": "code",
      "source": [
        "bernstein_vazirani('001').draw('mpl')"
      ],
      "metadata": {
        "colab": {
          "base_uri": "https://localhost:8080/",
          "height": 384
        },
        "id": "eThufqb2ebM7",
        "outputId": "49846880-c5a7-4ae9-869e-c77c4a01ba6a"
      },
      "id": "eThufqb2ebM7",
      "execution_count": null,
      "outputs": [
        {
          "output_type": "execute_result",
          "data": {
            "text/plain": [
              "<Figure size 872.774x451.5 with 1 Axes>"
            ],
            "image/png": "[encoded data removed]"
          },
          "metadata": {},
          "execution_count": 23
        }
      ]
    }
  ],
  "metadata": {
    "kernelspec": {
      "display_name": "Python 3",
      "language": "python",
      "name": "python3"
    },
    "language_info": {
      "codemirror_mode": {
        "name": "ipython",
        "version": 3
      },
      "file_extension": ".py",
      "mimetype": "text/x-python",
      "name": "python",
      "nbconvert_exporter": "python",
      "pygments_lexer": "ipython3",
      "version": "3.10.14"
    },
    "vscode": {
      "interpreter": {
        "hash": "9650cb4e16cdd4a8e8e2d128bf38d875813998db22a3c986335f89e0cb4d7bb2"
      }
    },
    "colab": {
      "provenance": [],
      "include_colab_link": true
    }
  },
  "nbformat": 4,
  "nbformat_minor": 5
}